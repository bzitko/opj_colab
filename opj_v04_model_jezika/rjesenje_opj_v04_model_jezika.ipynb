{
 "cells": [
  {
   "cell_type": "code",
   "execution_count": 1,
   "metadata": {
    "collapsed": false
   },
   "outputs": [],
   "source": [
    "import re\n",
    "from test_v04 import *\n",
    "\n",
    "def read_file(filename):\n",
    "    return open(filename, \"r\", encoding=\"utf8\").read()"
   ]
  },
  {
   "cell_type": "markdown",
   "metadata": {},
   "source": [
    "# 4. Model jezika\n",
    "\n",
    "## 4.1 segmentiranje rečenice\n",
    "\n",
    "Napravi funkciju **segment_sentece()** po sljedećim ulaznim i izlaznim podacima\n",
    "* ulaz:\n",
    "    * **txt** tekst\n",
    "* izlaz:\n",
    "    * lista rečenica dobivenih iz teksta razbijanjem po regularnom izrazu koji traži sve interpunkcijske znakove i nove redove. Također se izbacuju sve vrste zagrada na početku i/ili kraju svake rečenice."
   ]
  },
  {
   "cell_type": "code",
   "execution_count": 2,
   "metadata": {
    "collapsed": false
   },
   "outputs": [
    {
     "name": "stdout",
     "output_type": "stream",
     "text": [
      "\n",
      "SEGMENT_SENTENCE\n",
      "------------------------------------------------------------\n",
      "OK\tsegment_sentence('A gdje je tvoj ured?',) \n",
      "=> ['A gdje je tvoj ured']\n",
      "== ['A gdje je tvoj ured']\n",
      "\n",
      "OK\tsegment_sentence('A gdje je tvoj ured? Ne znam gdje je.',) \n",
      "=> ['A gdje je tvoj ured', 'Ne znam gdje je']\n",
      "== ['A gdje je tvoj ured', 'Ne znam gdje je']\n",
      "\n",
      "OK\tsegment_sentence('[Alan Ford 001 - Grupa TNT]\\nNew York, najveći grad sjedinjenih država, kip slobo...',) \n",
      "=> ['Alan Ford 001 - Grupa TNT', 'New York, najveći grad sjedinjenih država, kip slobode, neboderi, devet milijuna...', 'Čujmo malo muzike', 'Tišina me odviše podsjeća na groblje']\n",
      "== ['Alan Ford 001 - Grupa TNT', 'New York, najveći grad sjedinjenih država, kip slobode, neboderi, devet milijuna mrava što stanuju', 'Čujmo malo muzike', 'Tišina me odviše podsjeća na groblje']\n",
      "\n"
     ]
    }
   ],
   "source": [
    "def segment_sentence(txt):\n",
    "    \"\"\"\n",
    "    ulaz:\n",
    "    -txt: tekst\n",
    "    izlaz:\n",
    "    -lista rečenica dobivenih iz teksta razbijanjem po regularnom izrazu\n",
    "    koji traži sve interpunkcijske znakove i nove redove.\n",
    "    Također se izbacuju sve vrste zagrada na početku i/ili kraju svake rečenice.\n",
    "    \"\"\"\n",
    "    sentences = re.split(r'[\\n.\\!\\?]+', txt.strip())\n",
    "    sentences = [sent.strip(' [](){}') for sent in sentences if sent.strip()]\n",
    "    return sentences\n",
    "\n",
    "testname(segment_sentence)\n",
    "test(segment_sentence, (\"A gdje je tvoj ured?\", ), ['A gdje je tvoj ured'])\n",
    "test(segment_sentence, (\"A gdje je tvoj ured? Ne znam gdje je.\", ), ['A gdje je tvoj ured', 'Ne znam gdje je'])\n",
    "test(segment_sentence, (\"\"\"[Alan Ford 001 - Grupa TNT]\n",
    "New York, najveći grad sjedinjenih država, kip slobode, neboderi, devet milijuna mrava što stanuju...\n",
    "Čujmo malo muzike! Tišina me odviše podsjeća na groblje! \"\"\", ),\n",
    "['Alan Ford 001 - Grupa TNT',\n",
    "'New York, najveći grad sjedinjenih država, kip slobode, neboderi, devet milijuna mrava što stanuju',\n",
    "'Čujmo malo muzike',\n",
    "'Tišina me odviše podsjeća na groblje'])"
   ]
  },
  {
   "cell_type": "markdown",
   "metadata": {},
   "source": [
    "## 4.2 Segmentiranje riječi\n",
    "\n",
    "Napravi funkciju **segment_word()** po sljedećim ulaznim i izlaznim podacima\n",
    "* ulaz:\n",
    "    * **txt** tekst\n",
    "* izlaz:\n",
    "    * lista riječi u tekstu nastalih razbijanjem po regularnom izrazu koji traži sve razmake, interpunkcijske znakove i zareze. Također se izbacuju sve vrste zagrada i navodika na početku i/ili kraju svake riječi."
   ]
  },
  {
   "cell_type": "code",
   "execution_count": 3,
   "metadata": {
    "collapsed": false
   },
   "outputs": [
    {
     "name": "stdout",
     "output_type": "stream",
     "text": [
      "\n",
      "SEGMENT_WORD\n",
      "------------------------------------------------------------\n",
      "OK\tsegment_word('A gdje je tvoj ured?',) \n",
      "=> ['A', 'gdje', 'je', 'tvoj', 'ured']\n",
      "== ['A', 'gdje', 'je', 'tvoj', 'ured']\n",
      "\n",
      "OK\tsegment_word('A gdje je tvoj ured? Ne znam gdje je.',) \n",
      "=> ['A', 'gdje', 'je', 'tvoj', 'ured', 'Ne', 'znam', 'gdje', 'je']\n",
      "== ['A', 'gdje', 'je', 'tvoj', 'ured', 'Ne', 'znam', 'gdje', 'je']\n",
      "\n",
      "OK\tsegment_word('[Alan Ford 001 - Grupa TNT]\\nNew York, najveći grad sjedinjenih država, kip slobo...',) \n",
      "=> ['Alan', 'Ford', '001', '-', 'Grupa', 'TNT', 'New', 'York', 'najveći', 'grad', 'sjedinjenih', 'država', 'kip', 'slobode', 'neboderi', 'devet', 'milijuna', 'mrava', 'što', 'stanuju', 'Čujmo', 'malo', 'muzike', 'Tišina', 'me', 'odviše', 'podsjeća', 'na', 'groblje']\n",
      "== ['Alan', 'Ford', '001', '-', 'Grupa', 'TNT', 'New', 'York', 'najveći', 'grad', 'sjedinjenih', 'država', 'kip', 'slobode', 'neboderi', 'devet', 'milijuna', 'mrava', 'što', 'stanuju', 'Čujmo', 'malo', 'muzike', 'Tišina', 'me', 'odviše', 'podsjeća', 'na', 'groblje']\n",
      "\n"
     ]
    }
   ],
   "source": [
    "def segment_word(txt):\n",
    "    words = re.split(r'[ \\,\\.\\!\\?\\n]', txt)\n",
    "    words = [word.strip(' [](){}') for word in words if word.strip()]\n",
    "    return words\n",
    "\n",
    "testname(segment_word)\n",
    "test(segment_word, (\"A gdje je tvoj ured?\", ), ['A', 'gdje', 'je', 'tvoj', 'ured'])\n",
    "test(segment_word, (\"A gdje je tvoj ured? Ne znam gdje je.\", ), ['A', 'gdje', 'je', 'tvoj', 'ured', 'Ne', 'znam', 'gdje', 'je'])\n",
    "test(segment_word, (\"\"\"[Alan Ford 001 - Grupa TNT]\n",
    "New York, najveći grad sjedinjenih država, kip slobode, neboderi, devet milijuna mrava što stanuju...\n",
    "Čujmo malo muzike! Tišina me odviše podsjeća na groblje! \"\"\", ),\n",
    "['Alan', 'Ford', '001', '-', 'Grupa', 'TNT', 'New', 'York', 'najveći', 'grad', 'sjedinjenih', 'država', 'kip', 'slobode', 'neboderi', 'devet', 'milijuna', 'mrava', 'što', 'stanuju', 'Čujmo', 'malo', 'muzike', 'Tišina', 'me', 'odviše', 'podsjeća', 'na', 'groblje'])\n"
   ]
  },
  {
   "cell_type": "markdown",
   "metadata": {},
   "source": [
    "## 4.3 Izgradnja n-grama\n",
    "\n",
    "Napravi funkciju **build_ngram()** po sljedećim ulaznim i izlaznim podacima\n",
    "* ulaz:\n",
    "    * **txt** tekst\n",
    "    * **ngram_size** broj koji određuje veličinu n-grama\n",
    "* izlaz:\n",
    "    * lista n-grama zadane rečenice. n-gram je uređena n-torka (tuple) riječi. Bitni su početak i kraj rečenice. Početak i kraj rečenice označiti sa $<sent>$ i $</sent>$. Napomena: kod unigrama odnosno kad je ngram_size = 1 n-torka je i dalje tuple, odnosno ima oblik (riječ, )."
   ]
  },
  {
   "cell_type": "code",
   "execution_count": 4,
   "metadata": {
    "collapsed": false
   },
   "outputs": [
    {
     "name": "stdout",
     "output_type": "stream",
     "text": [
      "\n",
      "BUILD_NGRAM\n",
      "------------------------------------------------------------\n",
      "OK\tbuild_ngram('A gdje je tvoj ured?', 1) \n",
      "=> [('<sent>',), ('A',), ('gdje',), ('je',), ('tvoj',), ('ured',), ('</sent>',)]\n",
      "== [('<sent>',), ('A',), ('gdje',), ('je',), ('tvoj',), ('ured',), ('</sent>',)]\n",
      "\n",
      "OK\tbuild_ngram('A gdje je tvoj ured?', 2) \n",
      "=> [('<sent>', 'A'), ('A', 'gdje'), ('gdje', 'je'), ('je', 'tvoj'), ('tvoj', 'ured'), ('ured', '</sent>')]\n",
      "== [('<sent>', 'A'), ('A', 'gdje'), ('gdje', 'je'), ('je', 'tvoj'), ('tvoj', 'ured'), ('ured', '</sent>')]\n",
      "\n",
      "OK\tbuild_ngram('A gdje je tvoj ured?', 5) \n",
      "=> [('<sent>', 'A', 'gdje', 'je', 'tvoj'), ('A', 'gdje', 'je', 'tvoj', 'ured'), ('gdje', 'je', 'tvoj', 'ured', '</sent>')]\n",
      "== [('<sent>', 'A', 'gdje', 'je', 'tvoj'), ('A', 'gdje', 'je', 'tvoj', 'ured'), ('gdje', 'je', 'tvoj', 'ured', '</sent>')]\n",
      "\n"
     ]
    }
   ],
   "source": [
    "def build_ngram(sentence, ngram_size):\n",
    "    ngram = []\n",
    "    sent_words = ['<sent>'] + segment_word(sentence) + ['</sent>']\n",
    "    for i in range(len(sent_words) - ngram_size + 1):\n",
    "        ngram.append(tuple(sent_words[i:i+ngram_size]))\n",
    "    return ngram\n",
    "\n",
    "testname(build_ngram)\n",
    "test(build_ngram, (\"A gdje je tvoj ured?\", 1), [('<sent>',), ('A',), ('gdje',), ('je',), ('tvoj',), ('ured',), ('</sent>',)])\n",
    "test(build_ngram, (\"A gdje je tvoj ured?\", 2), [('<sent>', 'A'), ('A', 'gdje'), ('gdje', 'je'), ('je', 'tvoj'), ('tvoj', 'ured'), ('ured', '</sent>')])\n",
    "test(build_ngram, (\"A gdje je tvoj ured?\", 5), [('<sent>', 'A', 'gdje', 'je', 'tvoj'), ('A', 'gdje', 'je', 'tvoj', 'ured'), ('gdje', 'je', 'tvoj', 'ured', '</sent>')])"
   ]
  },
  {
   "cell_type": "markdown",
   "metadata": {},
   "source": [
    "## 4.4 Izgradnja modela\n",
    "\n",
    "Napravi funkciju **build_model()** po sljedećim ulaznim i izlaznim podacima\n",
    "* ulaz\n",
    "    * **txt** tekst\n",
    "    * **ngram_size** broj koji određuje veličinu n-grama    \n",
    "* izlaz\n",
    "    * rječnik čiji su ključevi ngrami (kao tuple riječi), a vrijednosti broj pojavljivanja u tekstu\n",
    "    \n",
    "Napomena: bitni su početak i kraj rečenice. Početak i kraj rečenice označiti sa $<sent>$ i $</sent>$. Koristiti prethodno definiranu funkciju **build_ngram()**.\n",
    "\n",
    "Npr. Za tekst \"A gdje je ured? Ne znam gdje je.\" i za ngram_size = 2 dobiveni ngrami su\n",
    "\n",
    "    (\"<sent>\", \"A\"), (\"A\", \"gdje\"), (\"gdje\", \"je\"), (\"je\", \"ured\"), (\"ured\", \"</sent>\")\n",
    "    (\"<sent>\", \"Ne\"), (\"Ne\", \"znam\"), (\"znam\", \"gdje\"), (\"gdje\", \"je\"), (\"je\", \"</sent>\")\n",
    "\n",
    "a, model jezika je\n",
    "\n",
    "    {(\"<sent>\", \"A\"): 1,\n",
    "     (\"A\", \"gdje\"): 1,\n",
    "     (\"gdje\", \"je\"): 2,\n",
    "     (\"je\", \"ured\"): 1,\n",
    "     (\"ured\", \"</sent>\"): 1,\n",
    "     (\"<sent>\", \"Ne\"): 1,\n",
    "     (\"Ne\", \"znam\"): 1,\n",
    "     (\"znam\", \"gdje\"): 1,\n",
    "     (\"je\", \"</sent>\": 1)\n",
    "     }"
   ]
  },
  {
   "cell_type": "code",
   "execution_count": 5,
   "metadata": {
    "collapsed": false
   },
   "outputs": [
    {
     "name": "stdout",
     "output_type": "stream",
     "text": [
      "\n",
      "BUILD_MODEL\n",
      "------------------------------------------------------------\n",
      "OK\tbuild_model('[Alan Ford 001 - Grupa TNT]\\n\\nNew York, najveći grad sjedinjenih država, kip slob...', 1) \n",
      "=> {1: 1185, 2: 182, 3: 73, 4: 44, 5: 20, 6: 9, 7: 14, 8: 13, 9: 5, 10: 2, 11: 2, 12: 3, 13: 1, 14: 3, 15: 4, 16: 2, 17: 1, 18: 1, 19: 4, 20: 1, 22: 1, 27: 1, 30: 1, 97: 1, 34: 1, 35: 1, 101: 1, 40: 1, 109: 1, 46: 1, 47: 1, 688: 2, 55: 1}\n",
      "== {1: 1185, 2: 182, 3: 73, 4: 44, 5: 20, 6: 9, 7: 14, 8: 13, 9: 5, 10: 2, 11: 2, 12: 3, 13: 1, 14: 3, 15: 4, 16: 2, 17: 1, 18: 1, 19: 4, 20: 1, 22: 1, 27: 1, 30: 1, 97: 1, 34: 1, 35: 1, 101: 1, 40: 1, 109: 1, 46: 1, 47: 1, 688: 2, 55: 1}\n",
      "\n",
      "OK\tbuild_model('[Alan Ford 001 - Grupa TNT]\\n\\nNew York, najveći grad sjedinjenih država, kip slob...', 2) \n",
      "=> {1: 2910, 2: 220, 3: 61, 4: 30, 5: 10, 6: 6, 7: 9, 8: 6, 9: 3, 10: 4, 14: 2, 15: 3, 20: 1, 22: 1}\n",
      "== {1: 2910, 2: 220, 3: 61, 4: 30, 5: 10, 6: 6, 7: 9, 8: 6, 9: 3, 10: 4, 14: 2, 15: 3, 20: 1, 22: 1}\n",
      "\n",
      "OK\tbuild_model('[Alan Ford 001 - Grupa TNT]\\n\\nNew York, najveći grad sjedinjenih država, kip slob...', 3) \n",
      "=> {1: 3055, 2: 78, 3: 19, 4: 7, 6: 3, 7: 2, 8: 2}\n",
      "== {1: 3055, 2: 78, 3: 19, 4: 7, 6: 3, 7: 2, 8: 2}\n",
      "\n"
     ]
    }
   ],
   "source": [
    "def build_model(txt, ngram_size):\n",
    "    model = {}\n",
    "    for sent in segment_sentence(txt):\n",
    "        for ngram in build_ngram(sent, ngram_size):\n",
    "            model[ngram] = model.get(ngram, 0) + 1\n",
    "    return model\n",
    "\n",
    "# TEST\n",
    "TXT = \"\"\"\n",
    "Čujmo malo muzike! Tišina me odviše podsjeća na groblje! \n",
    "Hm... Beethoven! Mora da je to neki popkauntor. \n",
    "Da čujemo što mladac zna! Prokleta lopužo! Ili sviraj ili vrati novac! \n",
    "Ta moderna muzika zaista je ispunjena elektricitetom.\n",
    "Gotovo, mister. Želite li još nešto? Malo masaže ne bi štetilo. \n",
    "I ovako se sviđam ženama, ali nikad nije na odmet... \n",
    "Sklopite oči! Naočale pomažu, ali svjetlost će biti snažna pa je bolje da žmirite... \n",
    "Hm! Namjestio sam automat na 45 sekunda! \n",
    "A sad... Hm... Čini se da treba nešto izmijeniti na automatu! Učinit ću to još danas!\n",
    "\"\"\".strip()\n",
    "\n",
    "FILENAME = 'alan_ford_001_grupa_tnt.txt'\n",
    "testname(build_model)\n",
    "model1 = test_model(build_model, (read_file(FILENAME), 1), {1: 1185, 2: 182, 3: 73, 4: 44, 5: 20, 6: 9, 7: 14, 8: 13, 9: 5, 10: 2, 11: 2, 12: 3, 13: 1, 14: 3, 15: 4, 16: 2, 17: 1, 18: 1, 19: 4, 20: 1, 22: 1, 27: 1, 30: 1, 97: 1, 34: 1, 35: 1, 101: 1, 40: 1, 109: 1, 46: 1, 47: 1, 688: 2, 55: 1})\n",
    "model2 = test_model(build_model, (read_file(FILENAME), 2), {1: 2910, 2: 220, 3: 61, 4: 30, 5: 10, 6: 6, 7: 9, 8: 6, 9: 3, 10: 4, 14: 2, 15: 3, 20: 1, 22: 1})\n",
    "model3 = test_model(build_model, (read_file(FILENAME), 3), {1: 3055, 2: 78, 3: 19, 4: 7, 6: 3, 7: 2, 8: 2})"
   ]
  },
  {
   "cell_type": "markdown",
   "metadata": {},
   "source": [
    "## 4.5 Vjerojarnost digrama\n",
    "\n",
    "Napravi funkciju **digram_probability()** po sljedećim ulaznim i izlaznim podacima\n",
    "* ulaz\n",
    "    * **txt** tekst rečenice\n",
    "    * **model2** digram\n",
    "    * **model1** unigram\n",
    "* izlaz\n",
    "    * vjeroratnost rečenice po digram modelu normaliziranog uz pomoć unigram modela\n",
    "    Napomena: vjerojatnost pojedinog digrama (A, B) je jednaka broju\n",
    "    pojavljivanja digrama (A, B) podijeljenog s brojem pojavljivanja unigrama (A, )\n",
    "    $$P(A, B) = \\frac{broj((A, B))}{broj(A)}$$\n",
    "    "
   ]
  },
  {
   "cell_type": "code",
   "execution_count": 6,
   "metadata": {
    "collapsed": false
   },
   "outputs": [
    {
     "name": "stdout",
     "output_type": "stream",
     "text": [
      "\n",
      "DIGRAM_PROBABILITY\n",
      "------------------------------------------------------------\n",
      "OK\tdigram_probability('A gdje je tvoj ured?', {('ovaj', 'put'): 1, ('Oh', 'ostao'): 1, ('na', 'glavu'): 1}, {('naše',): 1, ('Smetnje',): 1, ('uzlijeće',): 1}) \n",
      "=> 6.6673778536377226e-06\n",
      "== 6.6673778536377226e-06\n",
      "\n",
      "OK\tdigram_probability('U ovih nekoliko posljednjih sati, život se budio prolaznici su zaista dosadni!', {('ovaj', 'put'): 1, ('Oh', 'ostao'): 1, ('na', 'glavu'): 1}, {('naše',): 1, ('Smetnje',): 1, ('uzlijeće',): 1}) \n",
      "=> 2.1678842892280916e-09\n",
      "== 2.1678842892280916e-09\n",
      "\n",
      "OK\tdigram_probability('Hm... uvijek kad zakočim ispadne kotač i ne čeka.', {('ovaj', 'put'): 1, ('Oh', 'ostao'): 1, ('na', 'glavu'): 1}, {('naše',): 1, ('Smetnje',): 1, ('uzlijeće',): 1}) \n",
      "=> 8.777103696213908e-09\n",
      "== 8.777103696213908e-09\n",
      "\n"
     ]
    }
   ],
   "source": [
    "def digram_probability(sentence, model2, model1):\n",
    "    \"\"\"\n",
    "    ulaz:\n",
    "    -sentence: tekst rečenice\n",
    "    -model2: digram\n",
    "    -model1: unigram\n",
    "    izlaz:\n",
    "    -vjeroratnost rečenice po digram modelu normaliziranog uz pomoć unigram modela\n",
    "    Napomena: vjerojatnost pojedinog digrama (A, B) je jednaka broju\n",
    "    pojavljivanja digrama (A, B) podijeljenog s brojem pojavljivanja unigrama (A, )\n",
    "    P(A, B) = broj((A, B)) / broj(A, )\n",
    "    \"\"\"\n",
    "    prob = 1\n",
    "    for ngram in build_ngram(sentence, 2):\n",
    "        cnt2 = model2.get(ngram, 0)\n",
    "        cnt1 = model1.get(ngram[:1], 0)\n",
    "        prob *= cnt2 / cnt1\n",
    "    return prob\n",
    "\n",
    "testname(digram_probability)\n",
    "test(digram_probability, (\"A gdje je tvoj ured?\", model2, model1), 6.6673778536377226e-06)\n",
    "test(digram_probability, (\"U ovih nekoliko posljednjih sati, život se budio prolaznici su zaista dosadni!\", model2, model1), 2.1678842892280916e-09)\n",
    "test(digram_probability, (\"Hm... uvijek kad zakočim ispadne kotač i ne čeka.\", model2, model1), 8.777103696213908e-09)"
   ]
  },
  {
   "cell_type": "markdown",
   "metadata": {},
   "source": [
    "## 4.6 Vjerojarnost digrama uz izglađivanje\n",
    "\n",
    "Napravi funkciju **digram_probability_laplace()** po sljedećim ulaznim i izlaznim podacima\n",
    "* ulaz\n",
    "    * **txt** tekst rečenice\n",
    "    * **model2** digram\n",
    "    * **model1** unigram\n",
    "* izlaz\n",
    "    * vjeroratnost rečenice po digram modelu normaliziranog uz pomoć unigram modela s\n",
    "    dodaj-1 izglađivanjem.\n",
    "    $$P(A, B) = \\frac{broj((A, B)) + 1}{broj(A) + |V|}$$\n",
    "    gdje je $V$ broj različitih riječi u unigramu\n",
    "    "
   ]
  },
  {
   "cell_type": "code",
   "execution_count": 7,
   "metadata": {
    "collapsed": false
   },
   "outputs": [
    {
     "name": "stdout",
     "output_type": "stream",
     "text": [
      "\n",
      "DIGRAM_PROBABILITY_LAPLACE\n",
      "------------------------------------------------------------\n",
      "OK\tdigram_probability_laplace('xxx?', {('ovaj', 'put'): 1, ('Oh', 'ostao'): 1, ('na', 'glavu'): 1}, {('naše',): 1, ('Smetnje',): 1, ('uzlijeće',): 1}) \n",
      "=> 2.781646584569149e-07\n",
      "== 2.781646584569149e-07\n",
      "\n",
      "OK\tdigram_probability_laplace('xx xx xx xx?', {('ovaj', 'put'): 1, ('Oh', 'ostao'): 1, ('na', 'glavu'): 1}, {('naše',): 1, ('Smetnje',): 1, ('uzlijeće',): 1}) \n",
      "=> 7.0122793090205e-17\n",
      "== 7.0122793090205e-17\n",
      "\n"
     ]
    }
   ],
   "source": [
    "def digram_probability_laplace(sentence, model2, model1):\n",
    "    prob = 1\n",
    "    v = len(model1)\n",
    "    for ngram in build_ngram(sentence, 2):\n",
    "        cnt2 = model2.get(ngram, 0) + 1\n",
    "        cnt1 = model1.get(ngram[:1], 0) + v\n",
    "        prob *= cnt2 / cnt1\n",
    "    return prob\n",
    "\n",
    "\n",
    "testname(digram_probability_laplace)\n",
    "test(digram_probability_laplace, (\"xxx?\", model2, model1), 2.781646584569149e-07)\n",
    "test(digram_probability_laplace, (\"xx xx xx xx?\", model2, model1), 7.0122793090205e-17)\n"
   ]
  },
  {
   "cell_type": "markdown",
   "metadata": {
    "collapsed": true
   },
   "source": [
    "## 4.7 Generiranje slučajnih rečenica"
   ]
  },
  {
   "cell_type": "code",
   "execution_count": 8,
   "metadata": {
    "collapsed": false
   },
   "outputs": [
    {
     "name": "stdout",
     "output_type": "stream",
     "text": [
      "što \n",
      "Betty je krivi spoj \n",
      "Uhvati mačku i Newton \n",
      "Jedno \"ne\" bilo \n",
      "Ka \n",
      "Hvala mladiću topla riječ djeluje kao melem za uspomenu \n",
      "Mister Ford jer \n",
      "Oni tipovi \n",
      "Uz pomoć \n",
      "Ucmekali \n",
      "Prototip proizvodnje 1983 \n",
      "Vijest o pravnim frazama koje mi je imati komforan stan \n",
      "Karijatida \n",
      "Gospodo ne koristite usluge agencije Alan Ford da vas bilo zgodno da znam da živim \n",
      "Zaključak je morala zadržati ja pa će dobra za tebe dok se vrata a bez moje pojave okreće želudac \n",
      "Margot i bez baruta \n",
      "momče \n",
      "A ovaj mi pozajmiti pet dolara \n",
      "Namjestio sam pao u predjelu želuca \n",
      "Ali ja to dobio plaću od Hizmara ili u bolnicu da joj nikada ne mari \n"
     ]
    }
   ],
   "source": [
    "import random\n",
    "\n",
    "\n",
    "def random_chain(model):\n",
    "    word = '<sent>'\n",
    "    sentence = []\n",
    "    while word != '</sent>':\n",
    "        next_grams = list({gram for gram in model if gram[0] == word})\n",
    "        \n",
    "        if next_grams:\n",
    "            next_gram = random.choice(next_grams)\n",
    "            sentence.append(next_gram)\n",
    "            word = next_gram[-1]\n",
    "            if word == '<sent>':\n",
    "                break\n",
    "        else:\n",
    "            break\n",
    "    # print(sentence)\n",
    "    sentence = ' '.join(' '.join(gram[1:]) for gram in sentence).strip('</sent>')\n",
    "    print(sentence)\n",
    "\n",
    "for _ in range(20):\n",
    "    random_chain(model2)"
   ]
  },
  {
   "cell_type": "code",
   "execution_count": null,
   "metadata": {
    "collapsed": true
   },
   "outputs": [],
   "source": []
  },
  {
   "cell_type": "code",
   "execution_count": null,
   "metadata": {
    "collapsed": true
   },
   "outputs": [],
   "source": []
  }
 ],
 "metadata": {
  "kernelspec": {
   "display_name": "Python 3",
   "language": "python",
   "name": "python3"
  },
  "language_info": {
   "codemirror_mode": {
    "name": "ipython",
    "version": 3
   },
   "file_extension": ".py",
   "mimetype": "text/x-python",
   "name": "python",
   "nbconvert_exporter": "python",
   "pygments_lexer": "ipython3",
   "version": "3.5.1"
  }
 },
 "nbformat": 4,
 "nbformat_minor": 0
}

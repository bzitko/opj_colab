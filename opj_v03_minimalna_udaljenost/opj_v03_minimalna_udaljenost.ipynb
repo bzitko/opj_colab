{
 "cells": [
  {
   "cell_type": "markdown",
   "metadata": {},
   "source": [
    "# Rad s matricama - numpy\n",
    "\n",
    "numpy je Python-ov modul za rad s matricama."
   ]
  },
  {
   "cell_type": "code",
   "execution_count": 1,
   "metadata": {
    "collapsed": true
   },
   "outputs": [],
   "source": [
    "import numpy as np"
   ]
  },
  {
   "cell_type": "markdown",
   "metadata": {},
   "source": [
    "** Stvaranje vektora i matrice **"
   ]
  },
  {
   "cell_type": "code",
   "execution_count": 2,
   "metadata": {
    "collapsed": false
   },
   "outputs": [
    {
     "data": {
      "text/plain": [
       "array([1, 2, 3])"
      ]
     },
     "execution_count": 2,
     "metadata": {},
     "output_type": "execute_result"
    }
   ],
   "source": [
    "y = np.array([1, 2, 3])\n",
    "y"
   ]
  },
  {
   "cell_type": "code",
   "execution_count": 3,
   "metadata": {
    "collapsed": false
   },
   "outputs": [
    {
     "data": {
      "text/plain": [
       "array([[1, 2, 3],\n",
       "       [4, 5, 6]])"
      ]
     },
     "execution_count": 3,
     "metadata": {},
     "output_type": "execute_result"
    }
   ],
   "source": [
    "x = np.array([[1, 2, 3], \n",
    "              [4, 5, 6]])\n",
    "x"
   ]
  },
  {
   "cell_type": "markdown",
   "metadata": {},
   "source": [
    "** Dimenzija vektora i matrice **"
   ]
  },
  {
   "cell_type": "code",
   "execution_count": 4,
   "metadata": {
    "collapsed": false
   },
   "outputs": [
    {
     "data": {
      "text/plain": [
       "(3,)"
      ]
     },
     "execution_count": 4,
     "metadata": {},
     "output_type": "execute_result"
    }
   ],
   "source": [
    "y.shape"
   ]
  },
  {
   "cell_type": "code",
   "execution_count": 5,
   "metadata": {
    "collapsed": false
   },
   "outputs": [
    {
     "data": {
      "text/plain": [
       "(2, 3)"
      ]
     },
     "execution_count": 5,
     "metadata": {},
     "output_type": "execute_result"
    }
   ],
   "source": [
    "x.shape"
   ]
  },
  {
   "cell_type": "markdown",
   "metadata": {},
   "source": [
    "** Postavljanje vrijednosti **"
   ]
  },
  {
   "cell_type": "code",
   "execution_count": 6,
   "metadata": {
    "collapsed": false
   },
   "outputs": [
    {
     "data": {
      "text/plain": [
       "array([  1,   2, 100])"
      ]
     },
     "execution_count": 6,
     "metadata": {},
     "output_type": "execute_result"
    }
   ],
   "source": [
    "y[2] = 100\n",
    "y"
   ]
  },
  {
   "cell_type": "code",
   "execution_count": 7,
   "metadata": {
    "collapsed": false
   },
   "outputs": [
    {
     "data": {
      "text/plain": [
       "array([[  1,   2,   3],\n",
       "       [100,   5,   6]])"
      ]
     },
     "execution_count": 7,
     "metadata": {},
     "output_type": "execute_result"
    }
   ],
   "source": [
    "x[1, 0] = 100\n",
    "x"
   ]
  },
  {
   "cell_type": "markdown",
   "metadata": {},
   "source": [
    "** Stvaranje nul matrice **"
   ]
  },
  {
   "cell_type": "code",
   "execution_count": 8,
   "metadata": {
    "collapsed": false
   },
   "outputs": [
    {
     "data": {
      "text/plain": [
       "array([[0., 0., 0., 0.],\n",
       "       [0., 0., 0., 0.],\n",
       "       [0., 0., 0., 0.]])"
      ]
     },
     "execution_count": 8,
     "metadata": {},
     "output_type": "execute_result"
    }
   ],
   "source": [
    "np.zeros((3, 4))"
   ]
  },
  {
   "cell_type": "code",
   "execution_count": 9,
   "metadata": {
    "collapsed": false
   },
   "outputs": [
    {
     "data": {
      "text/plain": [
       "array([[0, 0, 0, 0],\n",
       "       [0, 0, 0, 0],\n",
       "       [0, 0, 0, 0]])"
      ]
     },
     "execution_count": 9,
     "metadata": {},
     "output_type": "execute_result"
    }
   ],
   "source": [
    "np.zeros((3, 4), dtype=int)"
   ]
  },
  {
   "cell_type": "markdown",
   "metadata": {},
   "source": [
    "# 3. Minimalna udaljenost"
   ]
  },
  {
   "cell_type": "code",
   "execution_count": 10,
   "metadata": {
    "collapsed": true
   },
   "outputs": [],
   "source": [
    "from opj_v03_test import *"
   ]
  },
  {
   "cell_type": "markdown",
   "metadata": {},
   "source": [
    "## 3.1. Matrica udaljenosti\n",
    "\n",
    "Napravi funkciju ** edit_dist_mx() ** po sljedećim ulaznim i izlaznim podacima\n",
    "* ulaz:\n",
    "    * ** s1 ** tekst\n",
    "    * ** s2 ** tekst\n",
    "* izlaz:\n",
    "    * matrica udaljenosti između s1 i s2\n",
    "    \n",
    "Na primjer, matrica udaljenosti za s1 = \"nos\" i s2 = \"noj\" je\n",
    "\n",
    "    [[0, 1, 2, 3],  \n",
    "     [1, 0, 1, 2],  \n",
    "     [2, 1, 0, 1],  \n",
    "     [3, 2, 1, 2]]\n",
    "\n",
    "Odnosno \n",
    "\n",
    "    s\t3\t2\t1\t2  \n",
    "    o\t2\t1\t0\t1  \n",
    "    n\t1\t0\t1\t2  \n",
    "    #\t0\t1\t2\t3  \n",
    "         #\tn\to\tj  "
   ]
  },
  {
   "cell_type": "code",
   "execution_count": 11,
   "metadata": {
    "collapsed": false
   },
   "outputs": [
    {
     "name": "stdout",
     "output_type": "stream",
     "text": [
      "\n",
      "EDIT_DIST\n",
      "------------------------------------------------------------\n",
      "X\n",
      "X\n",
      "X\n",
      "X\n",
      "X\n"
     ]
    }
   ],
   "source": [
    "def edit_dist_mx(s1, s2):\n",
    "    return\n",
    "\n",
    "\n",
    "def edit_dist(s1, s2):\n",
    "    return edit_dist_mx(s1, s2)[-1, -1]\n",
    "    \n",
    "\n",
    "testname(edit_dist)\n",
    "test_dist(edit_dist_mx, edit_dist, ('nos','noj'), ([[0, 1, 2, 3], \n",
    "                                                    [1, 0, 1, 2], \n",
    "                                                    [2, 1, 0, 1], \n",
    "                                                    [3, 2, 1, 2]], 2))\n",
    "test_dist(edit_dist_mx, edit_dist, ('osa','bosa'), ([[0, 1, 2, 3, 4], \n",
    "                                                     [1, 2, 1, 2, 3], \n",
    "                                                     [2, 3, 2, 1, 2], \n",
    "                                                     [3, 4, 3, 2, 1]], 1))\n",
    "test_dist(edit_dist_mx, edit_dist, ('bosa','osa'), ([[0, 1, 2, 3], \n",
    "                                                     [1, 2, 3, 4], \n",
    "                                                     [2, 1, 2, 3], \n",
    "                                                     [3, 2, 1, 2], \n",
    "                                                     [4, 3, 2, 1]], 1))\n",
    "test_dist(edit_dist_mx, edit_dist, ('paliti','piti'), ([[0, 1, 2, 3, 4], \n",
    "                                                        [1, 0, 1, 2, 3], \n",
    "                                                        [2, 1, 2, 3, 4], \n",
    "                                                        [3, 2, 3, 4, 5], \n",
    "                                                        [4, 3, 2, 3, 4], \n",
    "                                                        [5, 4, 3, 2, 3], \n",
    "                                                        [6, 5, 4, 3, 2]], 2))\n",
    "test_dist(edit_dist_mx, edit_dist, ('paliti','pisati'), ([[0, 1, 2, 3, 4, 5, 6], \n",
    "                                                          [1, 0, 1, 2, 3, 4, 5], \n",
    "                                                          [2, 1, 2, 3, 2, 3, 4], \n",
    "                                                          [3, 2, 3, 4, 3, 4, 5], \n",
    "                                                          [4, 3, 2, 3, 4, 5, 4], \n",
    "                                                          [5, 4, 3, 4, 5, 4, 5], \n",
    "                                                          [6, 5, 4, 5, 6, 5, 4]], 4))"
   ]
  },
  {
   "cell_type": "markdown",
   "metadata": {
    "collapsed": true
   },
   "source": [
    "Napravi funkciju ** align() ** po sljedećim ulaznim i izlaznim podacima\n",
    "* ulaz:\n",
    "    * ** s1 ** tekst\n",
    "    * ** s2 ** tekst\n",
    "* izlaz:\n",
    "    * Uređeni par ** (as1, as2) ** gdje je as1 poravnanje od s1, a as2 poravnanje od s2 (prilikom poravnanja koristiti \"-\")\n",
    "    \n",
    "Primjer, poravnanje od 'paliti' i 'pisati':\n",
    "\n",
    "    pali--ti  \n",
    "    p--isati\n"
   ]
  },
  {
   "cell_type": "code",
   "execution_count": 12,
   "metadata": {
    "collapsed": false
   },
   "outputs": [
    {
     "name": "stdout",
     "output_type": "stream",
     "text": [
      "\n",
      "ALIGN\n",
      "------------------------------------------------------------\n",
      "X\n",
      "X\n",
      "X\n",
      "X\n",
      "X\n",
      "X\n"
     ]
    }
   ],
   "source": [
    "def align(s1, s2):\n",
    "    return\n",
    "\n",
    "testname(align)\n",
    "test_alignment(align, ('nos','noj'), ('nos', 'noj'))\n",
    "test_alignment(align, ('osa','bosa'), ('-osa', 'bosa'))\n",
    "test_alignment(align, ('bosa','osa'), ('bosa', '-osa'))\n",
    "test_alignment(align, ('paliti','piti'), ('paliti', 'p--iti'))\n",
    "test_alignment(align, ('paliti','pisati'), ('pali--ti', 'p--isati'))\n",
    "test_alignment(align, ('blindiram', 'navigiram'), ('blin-di--ram', '---navigiram'))"
   ]
  },
  {
   "cell_type": "code",
   "execution_count": null,
   "metadata": {
    "collapsed": true
   },
   "outputs": [],
   "source": []
  }
 ],
 "metadata": {
  "kernelspec": {
   "display_name": "Python 3",
   "language": "python",
   "name": "python3"
  },
  "language_info": {
   "codemirror_mode": {
    "name": "ipython",
    "version": 3
   },
   "file_extension": ".py",
   "mimetype": "text/x-python",
   "name": "python",
   "nbconvert_exporter": "python",
   "pygments_lexer": "ipython3",
   "version": "3.5.1"
  }
 },
 "nbformat": 4,
 "nbformat_minor": 0
}

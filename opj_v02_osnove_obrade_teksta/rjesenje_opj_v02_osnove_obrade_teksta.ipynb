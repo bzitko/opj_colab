{
 "cells": [
  {
   "cell_type": "code",
   "execution_count": 1,
   "metadata": {
    "collapsed": false
   },
   "outputs": [],
   "source": [
    "import re\n",
    "from opj_v02_test import *\n",
    "\n",
    "def read_file(filename):\n",
    "    return open(filename, \"r\", encoding=\"utf8\").read()"
   ]
  },
  {
   "cell_type": "markdown",
   "metadata": {},
   "source": [
    "# 2. Osnove obrade teksta\n",
    "\n",
    "## 2.1 Prebrojavanje uzorka\n",
    "\n",
    "Napravi funkciju **count_pattern()** po sljedećim ulaznim i izlaznim podacima\n",
    "* ulaz:\n",
    "    * **txt** tekst\n",
    "    * **pattern** regularni izraz\n",
    "* izlaz:\n",
    "    * broj odgovarajućih dijelova teksta po zadanom regularnom izrazu\n",
    "\n",
    "Na primjer: za tekst \"4 plus 31 jednako 5\" i regularni izraz r\"\\d+\" vraća 3"
   ]
  },
  {
   "cell_type": "code",
   "execution_count": 2,
   "metadata": {
    "collapsed": false
   },
   "outputs": [
    {
     "name": "stdout",
     "output_type": "stream",
     "text": [
      "\n",
      "COUNT_PATTERN\n",
      "------------------------------------------------------------\n",
      "OK\n",
      "count_pattern('Čujmo malo muzike! Tišina me odviše podsjeća na groblje! \\nHm... Beethoven! Mora ...', 'a') ==> \n",
      "53\n",
      " == \n",
      "53\n",
      "\n",
      "OK\n",
      "count_pattern('Čujmo malo muzike! Tišina me odviše podsjeća na groblje! \\nHm... Beethoven! Mora ...', '[^a]') ==> \n",
      "512\n",
      " == \n",
      "512\n",
      "\n",
      "OK\n",
      "count_pattern('Čujmo malo muzike! Tišina me odviše podsjeća na groblje! \\nHm... Beethoven! Mora ...', '\\\\S+') ==> \n",
      "94\n",
      " == \n",
      "94\n",
      "\n",
      "OK\n",
      "count_pattern('Čujmo malo muzike! Tišina me odviše podsjeća na groblje! \\nHm... Beethoven! Mora ...', '\\\\w+') ==> \n",
      "94\n",
      " == \n",
      "94\n",
      "\n",
      "OK\n",
      "count_pattern('Čujmo malo muzike! Tišina me odviše podsjeća na groblje! \\nHm... Beethoven! Mora ...', 'oš') ==> \n",
      "2\n",
      " == \n",
      "2\n",
      "\n",
      "OK\n",
      "count_pattern('Čujmo malo muzike! Tišina me odviše podsjeća na groblje! \\nHm... Beethoven! Mora ...', 'al') ==> \n",
      "5\n",
      " == \n",
      "5\n",
      "\n",
      "OK\n",
      "count_pattern('Čujmo malo muzike! Tišina me odviše podsjeća na groblje! \\nHm... Beethoven! Mora ...', 'oš|al') ==> \n",
      "7\n",
      " == \n",
      "7\n",
      "\n"
     ]
    }
   ],
   "source": [
    "def count_pattern(txt, patten):\n",
    "    return len(re.findall(patten, txt))\n",
    "\n",
    "# TEST\n",
    "TXT = \"\"\"\n",
    "Čujmo malo muzike! Tišina me odviše podsjeća na groblje! \n",
    "Hm... Beethoven! Mora da je to neki popkauntor. \n",
    "Da čujemo što mladac zna! Prokleta lopužo! Ili sviraj ili vrati novac! \n",
    "Ta moderna muzika zaista je ispunjena elektricitetom.\n",
    "Gotovo, mister. Želite li još nešto? Malo masaže ne bi štetilo. \n",
    "I ovako se sviđam ženama, ali nikad nije na odmet... \n",
    "Sklopite oči! Naočale pomažu, ali svjetlost će biti snažna pa je bolje da žmirite... \n",
    "Hm! Namjestio sam automat na 45 sekunda! \n",
    "A sad... Hm... Čini se da treba nešto izmijeniti na automatu! Učinit ću to još danas!\n",
    "\"\"\".strip()\n",
    "\n",
    "testname(count_pattern)\n",
    "test(count_pattern, (TXT, r'a'), 53)\n",
    "test(count_pattern, (TXT, r'[^a]'), 512)\n",
    "test(count_pattern, (TXT, r'\\S+'), 94)\n",
    "test(count_pattern, (TXT, r'\\w+'), 94)\n",
    "test(count_pattern, (TXT, r'oš'), 2)\n",
    "test(count_pattern, (TXT, r'al'), 5)\n",
    "test(count_pattern, (TXT, r'oš|al'), 7)"
   ]
  },
  {
   "cell_type": "markdown",
   "metadata": {},
   "source": [
    "## 2.2 Pronalaženje uzorka\n",
    "\n",
    "Napravi funkciju **match_pattern()** po sljedećim ulaznim i izlaznim podacima\n",
    "* ulaz:\n",
    "    * **txt** tekst\n",
    "    * **pattern** regularni izraz\n",
    "* izlaz:\n",
    "    * lista odgovarajućih dijelova teksta po zadanom regularnom izrazu\n",
    "    \n",
    "Na primjer, za tekst \"4 plus 31 jednako 5\" i regularni izraz r\"\\d+\" vraća listu svih nizova brojčanih znakova ['4', '31', '5'] kako se pojavljuju u tekstu."
   ]
  },
  {
   "cell_type": "code",
   "execution_count": 3,
   "metadata": {
    "collapsed": false
   },
   "outputs": [
    {
     "name": "stdout",
     "output_type": "stream",
     "text": [
      "\n",
      "MATCH_PATTERN\n",
      "------------------------------------------------------------\n",
      "OK\n",
      "match_pattern('Čujmo malo muzike! Tišina me odviše podsjeća na groblje! \\nHm... Beethoven! Mora ...', 'oš|al') ==> \n",
      "['al', 'oš', 'al', 'al', 'al', 'al', 'oš']\n",
      " == \n",
      "['al', 'oš', 'al', 'al', 'al', 'al', 'oš']\n",
      "\n",
      "OK\n",
      "match_pattern('Čujmo malo muzike! Tišina me odviše podsjeća na groblje! \\nHm... Beethoven! Mora ...', '\\\\bo\\\\w+') ==> \n",
      "['odviše', 'ovako', 'odmet', 'oči']\n",
      " == \n",
      "['odviše', 'ovako', 'odmet', 'oči']\n",
      "\n",
      "OK\n",
      "match_pattern('b**2-49ac', '\\\\d') ==> \n",
      "['2', '4', '9']\n",
      " == \n",
      "['2', '4', '9']\n",
      "\n",
      "OK\n",
      "match_pattern('b**2-49ac', '\\\\d*') ==> \n",
      "['', '', '', '2', '', '49', '', '', '']\n",
      " == \n",
      "['', '', '', '2', '', '49', '', '', '']\n",
      "\n",
      "OK\n",
      "match_pattern('b**2-49ac', '\\\\d+') ==> \n",
      "['2', '49']\n",
      " == \n",
      "['2', '49']\n",
      "\n"
     ]
    }
   ],
   "source": [
    "def match_pattern(txt, pattern):\n",
    "    return re.findall(pattern, txt)\n",
    "\n",
    "# TEST\n",
    "TXT = \"\"\"\n",
    "Čujmo malo muzike! Tišina me odviše podsjeća na groblje! \n",
    "Hm... Beethoven! Mora da je to neki popkauntor. \n",
    "Da čujemo što mladac zna! Prokleta lopužo! Ili sviraj ili vrati novac! \n",
    "Ta moderna muzika zaista je ispunjena elektricitetom.\n",
    "Gotovo, mister. Želite li još nešto? Malo masaže ne bi štetilo. \n",
    "I ovako se sviđam ženama, ali nikad nije na odmet... \n",
    "Sklopite oči! Naočale pomažu, ali svjetlost će biti snažna pa je bolje da žmirite... \n",
    "Hm! Namjestio sam automat na 45 sekunda! \n",
    "A sad... Hm... Čini se da treba nešto izmijeniti na automatu! Učinit ću to još danas!\n",
    "\"\"\".strip()\n",
    "\n",
    "testname(match_pattern)\n",
    "test(match_pattern, (TXT, r'oš|al'), ['al', 'oš', 'al', 'al', 'al', 'al', 'oš'])\n",
    "test(match_pattern, (TXT, r'\\bo\\w+'), ['odviše', 'ovako', 'odmet', 'oči'])\n",
    "test(match_pattern, ('b**2-49ac', r'\\d'), ['2','4','9'])\n",
    "test(match_pattern, ('b**2-49ac', r'\\d*'), ['', '', '', '2', '', '49', '', '', ''])\n",
    "test(match_pattern, ('b**2-49ac', r'\\d+'), ['2', '49'])"
   ]
  },
  {
   "cell_type": "markdown",
   "metadata": {},
   "source": [
    "## 2.3 Razbijajnje teksta\n",
    "\n",
    "Napravi funkciju **split_pattern()** po sljedećim ulaznim i izlaznim podacima\n",
    "* ulaz:\n",
    "    * **txt** tekst\n",
    "    * **pattern** regularni izraz\n",
    "* izlaz:\n",
    "    * lista odgovarajućih djelova teksta po regularnom izrazu\n",
    "    \n",
    "Na primjer, za tekst \"4 plus 31 jednako 5\" i regularni izraz r\"\\d+\" vraća listu svih nizova koji ne odgovaraju regularnom izrazu odnosno [' plus ', ' jednako ']"
   ]
  },
  {
   "cell_type": "code",
   "execution_count": 4,
   "metadata": {
    "collapsed": false
   },
   "outputs": [
    {
     "name": "stdout",
     "output_type": "stream",
     "text": [
      "\n",
      "SPLIT_PATTERN\n",
      "------------------------------------------------------------\n",
      "OK\n",
      "split_pattern('b**2-49ac', '\\\\d+') ==> \n",
      "['b**', '-', 'ac']\n",
      " == \n",
      "['b**', '-', 'ac']\n",
      "\n",
      "OK\n",
      "split_pattern('b**2-49ac', '\\\\D+') ==> \n",
      "['', '2', '49', '']\n",
      " == \n",
      "['', '2', '49', '']\n",
      "\n"
     ]
    }
   ],
   "source": [
    "def split_pattern(txt, pattern):\n",
    "    return re.split(pattern, txt)\n",
    "\n",
    "# TEST\n",
    "testname(split_pattern)\n",
    "test(split_pattern, ('b**2-49ac', '\\d+'), ['b**', '-', 'ac'])\n",
    "test(split_pattern, ('b**2-49ac', '\\D+'), ['', '2', '49', ''])"
   ]
  },
  {
   "cell_type": "markdown",
   "metadata": {},
   "source": [
    "## 2.4 Prebrojavanje novih redova\n",
    "\n",
    "Napravi funkciju **cnt_newline()** po sljedećim ulaznim i izlaznim podacima\n",
    "* ulaz\n",
    "    * **txt** tekst\n",
    "* izlaz\n",
    "    * ukupan broj pojavljivanja novog reda u tekstu\n",
    "    "
   ]
  },
  {
   "cell_type": "code",
   "execution_count": 5,
   "metadata": {
    "collapsed": false
   },
   "outputs": [
    {
     "name": "stdout",
     "output_type": "stream",
     "text": [
      "\n",
      "CNT_NEWLINE\n",
      "------------------------------------------------------------\n",
      "OK\n",
      "cnt_newline('Čujmo malo muzike! Tišina me odviše podsjeća na groblje! \\nHm... Beethoven! Mora ...',) ==> \n",
      "8\n",
      " == \n",
      "8\n",
      "\n",
      "OK\n",
      "cnt_newline('[Alan Ford 001 - Grupa TNT]\\n\\nNew York, najveći grad sjedinjenih država, kip slob...',) ==> \n",
      "44\n",
      " == \n",
      "44\n",
      "\n"
     ]
    }
   ],
   "source": [
    "def cnt_newline(txt):\n",
    "    return count_pattern(txt, r'\\n')\n",
    "\n",
    "# TEST\n",
    "TXT = \"\"\"\n",
    "Čujmo malo muzike! Tišina me odviše podsjeća na groblje! \n",
    "Hm... Beethoven! Mora da je to neki popkauntor. \n",
    "Da čujemo što mladac zna! Prokleta lopužo! Ili sviraj ili vrati novac! \n",
    "Ta moderna muzika zaista je ispunjena elektricitetom.\n",
    "Gotovo, mister. Želite li još nešto? Malo masaže ne bi štetilo. \n",
    "I ovako se sviđam ženama, ali nikad nije na odmet... \n",
    "Sklopite oči! Naočale pomažu, ali svjetlost će biti snažna pa je bolje da žmirite... \n",
    "Hm! Namjestio sam automat na 45 sekunda! \n",
    "A sad... Hm... Čini se da treba nešto izmijeniti na automatu! Učinit ću to još danas!\n",
    "\"\"\".strip()\n",
    "\n",
    "testname(cnt_newline)\n",
    "test(cnt_newline, (TXT, ), 8)\n",
    "test(cnt_newline, (read_file(\"alan_ford_001_grupa_tnt.txt\"), ), 44)"
   ]
  },
  {
   "cell_type": "markdown",
   "metadata": {},
   "source": [
    "## 2.5 Pronalaženje riječi koje imaju prvo slovo veliko\n",
    "\n",
    "Napravi funkciju **mtch_upper_word()** po sljedećim ulaznim i izlaznim podacima\n",
    "* ulaz\n",
    "    * **txt** tekst\n",
    "* izlaz\n",
    "    * lista riječi koje počinju s velikim slovom\n",
    "    "
   ]
  },
  {
   "cell_type": "code",
   "execution_count": 6,
   "metadata": {
    "collapsed": false
   },
   "outputs": [
    {
     "name": "stdout",
     "output_type": "stream",
     "text": [
      "\n",
      "MTCH_UPPER_WORD\n",
      "------------------------------------------------------------\n",
      "OK\n",
      "mtch_upper_word('A AA bba, Bcd, cDD Šđđ Žeđ',) ==> \n",
      "['A', 'AA', 'Bcd', 'Šđđ', 'Žeđ']\n",
      " == \n",
      "['A', 'AA', 'Bcd', 'Šđđ', 'Žeđ']\n",
      "\n",
      "OK\n",
      "mtch_upper_word('Čujmo malo muzike! Tišina me odviše podsjeća na groblje! \\nHm... Beethoven! Mora ...',) ==> \n",
      "['Čujmo', 'Tišina', 'Hm', 'Beethoven', 'Mora', 'Da', 'Prokleta', 'Ili', 'Ta', 'Gotovo', 'Želite', 'Malo', 'I', 'Sklopite', 'Naočale', 'Hm', 'Namjestio', 'A', 'Hm', 'Čini', 'Učinit']\n",
      " == \n",
      "['Čujmo', 'Tišina', 'Hm', 'Beethoven', 'Mora', 'Da', 'Prokleta', 'Ili', 'Ta', 'Gotovo', 'Želite', 'Malo', 'I', 'Sklopite', 'Naočale', 'Hm', 'Namjestio', 'A', 'Hm', 'Čini', 'Učinit']\n",
      "\n"
     ]
    }
   ],
   "source": [
    "def mtch_upper_word(txt):\n",
    "    return match_pattern(txt, r'\\b[A-ZŠĐČĆŽ]\\w*')\n",
    "\n",
    "# TEST\n",
    "TXT = \"\"\"\n",
    "Čujmo malo muzike! Tišina me odviše podsjeća na groblje! \n",
    "Hm... Beethoven! Mora da je to neki popkauntor. \n",
    "Da čujemo što mladac zna! Prokleta lopužo! Ili sviraj ili vrati novac! \n",
    "Ta moderna muzika zaista je ispunjena elektricitetom.\n",
    "Gotovo, mister. Želite li još nešto? Malo masaže ne bi štetilo. \n",
    "I ovako se sviđam ženama, ali nikad nije na odmet... \n",
    "Sklopite oči! Naočale pomažu, ali svjetlost će biti snažna pa je bolje da žmirite... \n",
    "Hm! Namjestio sam automat na 45 sekunda! \n",
    "A sad... Hm... Čini se da treba nešto izmijeniti na automatu! Učinit ću to još danas!\n",
    "\"\"\".strip()\n",
    "\n",
    "testname(mtch_upper_word)\n",
    "test(mtch_upper_word, ('A AA bba, Bcd, cDD Šđđ Žeđ',), ['A', 'AA', 'Bcd', 'Šđđ', 'Žeđ'])\n",
    "test(mtch_upper_word, (TXT, ), ['Čujmo', 'Tišina', 'Hm', 'Beethoven', 'Mora', 'Da', 'Prokleta', \n",
    "                                'Ili', 'Ta', 'Gotovo', 'Želite', 'Malo', 'I', 'Sklopite', \n",
    "                                'Naočale', 'Hm', 'Namjestio', 'A', 'Hm', 'Čini', 'Učinit'])"
   ]
  },
  {
   "cell_type": "markdown",
   "metadata": {},
   "source": [
    "## 2.6 Pronalaženje riječi sadrže zadani podtekst\n",
    "\n",
    "Napravi funkciju **mtch_infix()** po sljedećim ulaznim i izlaznim podacima\n",
    "* ulaz\n",
    "    * **txt** tekst\n",
    "    * **infix** podtekst po kojem se pretražuje\n",
    "* izlaz\n",
    "    * lista riječi koje sadrže zadani podtekst\n",
    "    "
   ]
  },
  {
   "cell_type": "code",
   "execution_count": 7,
   "metadata": {
    "collapsed": false
   },
   "outputs": [
    {
     "name": "stdout",
     "output_type": "stream",
     "text": [
      "\n",
      "MTCH_INFIX\n",
      "------------------------------------------------------------\n",
      "OK\n",
      "mtch_infix('Čujmo malo muzike! Tišina me odviše podsjeća na groblje! \\nHm... Beethoven! Mora ...', 'ma') ==> \n",
      "['malo', 'masaže', 'ženama', 'pomažu', 'automat', 'automatu']\n",
      " == \n",
      "['malo', 'masaže', 'ženama', 'pomažu', 'automat', 'automatu']\n",
      "\n",
      "OK\n",
      "mtch_infix('[Alan Ford 001 - Grupa TNT]\\n\\nNew York, najveći grad sjedinjenih država, kip slob...', 'oba') ==> \n",
      "['isprobati', 'dobar', 'neobavljena', 'soba', 'osoba', 'obavijest', 'sposoban', 'dobar']\n",
      " == \n",
      "['isprobati', 'dobar', 'neobavljena', 'soba', 'osoba', 'obavijest', 'sposoban', 'dobar']\n",
      "\n"
     ]
    }
   ],
   "source": [
    "def mtch_infix(txt, infix):\n",
    "    return match_pattern(txt, r'\\b\\w*' + infix + r'\\w*')\n",
    "\n",
    "# TEST\n",
    "TXT = \"\"\"\n",
    "Čujmo malo muzike! Tišina me odviše podsjeća na groblje! \n",
    "Hm... Beethoven! Mora da je to neki popkauntor. \n",
    "Da čujemo što mladac zna! Prokleta lopužo! Ili sviraj ili vrati novac! \n",
    "Ta moderna muzika zaista je ispunjena elektricitetom.\n",
    "Gotovo, mister. Želite li još nešto? Malo masaže ne bi štetilo. \n",
    "I ovako se sviđam ženama, ali nikad nije na odmet... \n",
    "Sklopite oči! Naočale pomažu, ali svjetlost će biti snažna pa je bolje da žmirite... \n",
    "Hm! Namjestio sam automat na 45 sekunda! \n",
    "A sad... Hm... Čini se da treba nešto izmijeniti na automatu! Učinit ću to još danas!\n",
    "\"\"\".strip()\n",
    "\n",
    "testname(mtch_infix)\n",
    "test(mtch_infix, (TXT, 'ma'), \n",
    "     ['malo', 'masaže', 'ženama', 'pomažu', 'automat', 'automatu'])\n",
    "test(mtch_infix, (read_file(\"alan_ford_001_grupa_tnt.txt\"), 'oba'), \n",
    "     ['isprobati', 'dobar', 'neobavljena', 'soba', 'osoba', 'obavijest', 'sposoban', 'dobar'])"
   ]
  },
  {
   "cell_type": "code",
   "execution_count": null,
   "metadata": {
    "collapsed": true
   },
   "outputs": [],
   "source": []
  }
 ],
 "metadata": {
  "kernelspec": {
   "display_name": "Python 3",
   "language": "python",
   "name": "python3"
  },
  "language_info": {
   "codemirror_mode": {
    "name": "ipython",
    "version": 3
   },
   "file_extension": ".py",
   "mimetype": "text/x-python",
   "name": "python",
   "nbconvert_exporter": "python",
   "pygments_lexer": "ipython3",
   "version": "3.5.1"
  }
 },
 "nbformat": 4,
 "nbformat_minor": 0
}
